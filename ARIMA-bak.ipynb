{
 "cells": [
  {
   "cell_type": "code",
   "execution_count": 1,
   "metadata": {},
   "outputs": [],
   "source": [
    "import pandas as pd\n",
    "import numpy as np\n",
    "import matplotlib.pyplot as plt\n",
    "import statsmodels.api as sm\n",
    "from statsmodels.graphics.tsaplots import acf,pacf,plot_acf,plot_pacf\n",
    "from statsmodels.tsa.arima_model import ARIMA\n"
   ]
  },
  {
   "cell_type": "code",
   "execution_count": 2,
   "metadata": {},
   "outputs": [
    {
     "data": {
      "text/html": [
       "<div>\n",
       "<style scoped>\n",
       "    .dataframe tbody tr th:only-of-type {\n",
       "        vertical-align: middle;\n",
       "    }\n",
       "\n",
       "    .dataframe tbody tr th {\n",
       "        vertical-align: top;\n",
       "    }\n",
       "\n",
       "    .dataframe thead th {\n",
       "        text-align: right;\n",
       "    }\n",
       "</style>\n",
       "<table border=\"1\" class=\"dataframe\">\n",
       "  <thead>\n",
       "    <tr style=\"text-align: right;\">\n",
       "      <th></th>\n",
       "      <th>Month</th>\n",
       "      <th>Passengers</th>\n",
       "    </tr>\n",
       "  </thead>\n",
       "  <tbody>\n",
       "    <tr>\n",
       "      <th>0</th>\n",
       "      <td>1949-01-01</td>\n",
       "      <td>112</td>\n",
       "    </tr>\n",
       "    <tr>\n",
       "      <th>1</th>\n",
       "      <td>1949-02-01</td>\n",
       "      <td>118</td>\n",
       "    </tr>\n",
       "    <tr>\n",
       "      <th>2</th>\n",
       "      <td>1949-03-01</td>\n",
       "      <td>132</td>\n",
       "    </tr>\n",
       "    <tr>\n",
       "      <th>3</th>\n",
       "      <td>1949-04-01</td>\n",
       "      <td>129</td>\n",
       "    </tr>\n",
       "    <tr>\n",
       "      <th>4</th>\n",
       "      <td>1949-05-01</td>\n",
       "      <td>121</td>\n",
       "    </tr>\n",
       "    <tr>\n",
       "      <th>...</th>\n",
       "      <td>...</td>\n",
       "      <td>...</td>\n",
       "    </tr>\n",
       "    <tr>\n",
       "      <th>139</th>\n",
       "      <td>1960-08-01</td>\n",
       "      <td>606</td>\n",
       "    </tr>\n",
       "    <tr>\n",
       "      <th>140</th>\n",
       "      <td>1960-09-01</td>\n",
       "      <td>508</td>\n",
       "    </tr>\n",
       "    <tr>\n",
       "      <th>141</th>\n",
       "      <td>1960-10-01</td>\n",
       "      <td>461</td>\n",
       "    </tr>\n",
       "    <tr>\n",
       "      <th>142</th>\n",
       "      <td>1960-11-01</td>\n",
       "      <td>390</td>\n",
       "    </tr>\n",
       "    <tr>\n",
       "      <th>143</th>\n",
       "      <td>1960-12-01</td>\n",
       "      <td>432</td>\n",
       "    </tr>\n",
       "  </tbody>\n",
       "</table>\n",
       "<p>144 rows × 2 columns</p>\n",
       "</div>"
      ],
      "text/plain": [
       "         Month  Passengers\n",
       "0   1949-01-01         112\n",
       "1   1949-02-01         118\n",
       "2   1949-03-01         132\n",
       "3   1949-04-01         129\n",
       "4   1949-05-01         121\n",
       "..         ...         ...\n",
       "139 1960-08-01         606\n",
       "140 1960-09-01         508\n",
       "141 1960-10-01         461\n",
       "142 1960-11-01         390\n",
       "143 1960-12-01         432\n",
       "\n",
       "[144 rows x 2 columns]"
      ]
     },
     "execution_count": 2,
     "metadata": {},
     "output_type": "execute_result"
    }
   ],
   "source": [
    "# 读入数据\n",
    "data = pd.read_csv('./data/airline-passengers.csv',parse_dates=[0])\n",
    "time_series = data['Passengers']\n",
    "time_series.index = pd.DatetimeIndex(data['Month'], freq='infer')\n",
    "data"
   ]
  },
  {
   "cell_type": "code",
   "execution_count": 3,
   "metadata": {},
   "outputs": [
    {
     "name": "stdout",
     "output_type": "stream",
     "text": [
      "                                value\n",
      "Test Statistic Value         0.815369\n",
      "p-value                      0.991880\n",
      "Lags Used                          13\n",
      "Number of Observations Used       130\n",
      "Critical Value(1%)          -3.481682\n",
      "Critical Value(5%)          -2.884042\n",
      "Critical Value(10%)         -2.578770\n"
     ]
    }
   ],
   "source": [
    "\n",
    "t=sm.tsa.stattools.adfuller(time_series, )\n",
    "output=pd.DataFrame(index=['Test Statistic Value', \"p-value\", \"Lags Used\", \"Number of Observations Used\",\"Critical Value(1%)\",\"Critical Value(5%)\",\"Critical Value(10%)\"],columns=['value'])\n",
    "output['value']['Test Statistic Value'] = t[0]\n",
    "output['value']['p-value'] = t[1]\n",
    "output['value']['Lags Used'] = t[2]\n",
    "output['value']['Number of Observations Used'] = t[3]\n",
    "output['value']['Critical Value(1%)'] = t[4]['1%']\n",
    "output['value']['Critical Value(5%)'] = t[4]['5%']\n",
    "output['value']['Critical Value(10%)'] = t[4]['10%']\n",
    "print(output)"
   ]
  },
  {
   "cell_type": "code",
   "execution_count": 4,
   "metadata": {},
   "outputs": [
    {
     "data": {
      "text/plain": [
       "DatetimeIndex(['1949-01-01', '1949-02-01', '1949-03-01', '1949-04-01',\n",
       "               '1949-05-01', '1949-06-01', '1949-07-01', '1949-08-01',\n",
       "               '1949-09-01', '1949-10-01',\n",
       "               ...\n",
       "               '1960-03-01', '1960-04-01', '1960-05-01', '1960-06-01',\n",
       "               '1960-07-01', '1960-08-01', '1960-09-01', '1960-10-01',\n",
       "               '1960-11-01', '1960-12-01'],\n",
       "              dtype='datetime64[ns]', name='Month', length=144, freq='MS')"
      ]
     },
     "execution_count": 4,
     "metadata": {},
     "output_type": "execute_result"
    }
   ],
   "source": [
    "time_series.index"
   ]
  },
  {
   "cell_type": "markdown",
   "metadata": {},
   "source": [
    "由上表可知，t 统计量要大于任何置信度的临界值，因此认为该序列是非平稳的，所以再对序列进行差分处理，发现差分之后的序列基本达到稳定，如下图所示，并且通过了 ADF 检验，检验结果见下表。"
   ]
  },
  {
   "cell_type": "code",
   "execution_count": 5,
   "metadata": {},
   "outputs": [
    {
     "data": {
      "image/png": "[encoded data removed]",
      "text/plain": [
       "<Figure size 576x432 with 1 Axes>"
      ]
     },
     "metadata": {
      "needs_background": "light"
     },
     "output_type": "display_data"
    },
    {
     "name": "stdout",
     "output_type": "stream",
     "text": [
      "                                value\n",
      "Test Statistic Value        -2.829267\n",
      "p-value                      0.054213\n",
      "Lags Used                          12\n",
      "Number of Observations Used       130\n",
      "Critical Value(1%)          -3.481682\n",
      "Critical Value(5%)          -2.884042\n",
      "Critical Value(10%)         -2.578770\n"
     ]
    }
   ],
   "source": [
    "time_series = time_series.diff(1)\n",
    "time_series = time_series.dropna(how=any)\n",
    "time_series.plot(figsize=(8,6))\n",
    "plt.show()\n",
    "t=sm.tsa.stattools.adfuller(time_series)\n",
    "output=pd.DataFrame(index=['Test Statistic Value', \"p-value\", \"Lags Used\", \"Number of Observations Used\",\"Critical Value(1%)\",\"Critical Value(5%)\",\"Critical Value(10%)\"],columns=['value'])\n",
    "output['value']['Test Statistic Value'] = t[0]\n",
    "output['value']['p-value'] = t[1]\n",
    "output['value']['Lags Used'] = t[2]\n",
    "output['value']['Number of Observations Used'] = t[3]\n",
    "output['value']['Critical Value(1%)'] = t[4]['1%']\n",
    "output['value']['Critical Value(5%)'] = t[4]['5%']\n",
    "output['value']['Critical Value(10%)'] = t[4]['10%']\n",
    "print(output)"
   ]
  },
  {
   "cell_type": "markdown",
   "metadata": {},
   "source": [
    "## 确定自相关系数和平均移动系数（p,q）\n",
    "根据时间序列的识别规则，采用 ACF 图、PAC 图，AIC 准则（赤道信息量准则）和 BIC 准则（贝叶斯准则）相结合的方式来确定 ARMA 模型的阶数, 应当选取 AIC 和 BIC 值达到最小的那一组为理想阶数。\n"
   ]
  },
  {
   "cell_type": "code",
   "execution_count": null,
   "metadata": {},
   "outputs": [],
   "source": [
    "plot_acf(time_series)\n",
    "plot_pacf(time_series)\n",
    "plt.show()\n",
    "\n",
    "r,rac,Q = sm.tsa.acf(time_series, qstat=True)\n",
    "prac = pacf(time_series,method='ywmle')\n",
    "table_data = np.c_[range(1,len(r)), r[1:],rac,prac[1:len(rac)+1],Q]\n",
    "table = pd.DataFrame(table_data, columns=['lag', \"AC\",\"Q\", \"PAC\", \"Prob(>Q)\"])\n",
    "table\n"
   ]
  },
  {
   "cell_type": "markdown",
   "metadata": {},
   "source": [
    "根据上面的几个图，我们可以先取 p=1, q=2。进行模型估计,结果见下图。"
   ]
  },
  {
   "cell_type": "code",
   "execution_count": 12,
   "metadata": {},
   "outputs": [
    {
     "data": {
      "image/png": "[encoded data removed]",
      "text/plain": [
       "<Figure size 576x432 with 1 Axes>"
      ]
     },
     "metadata": {
      "needs_background": "light"
     },
     "output_type": "display_data"
    },
    {
     "name": "stdout",
     "output_type": "stream",
     "text": [
      "129 15\n"
     ]
    }
   ],
   "source": [
    "# time_series = data['Passengers']\n",
    "# time_series.index=data['Month']\n",
    "time_series = data['Passengers']\n",
    "time_series.index = pd.DatetimeIndex(data['Month'], freq='infer')\n",
    "time_series = np.log(time_series)\n",
    "time_series.plot(figsize=(8,6))\n",
    "plt.show()\n",
    "train_size = len(time_series) - 15\n",
    "train_data = time_series[:train_size]\n",
    "test_data = time_series[train_size:]\n",
    "print(len(train_data),len(test_data))"
   ]
  },
  {
   "cell_type": "code",
   "execution_count": 13,
   "metadata": {},
   "outputs": [],
   "source": [
    "def get_pq2(df):\n",
    "        \"\"\"\n",
    "        bic评估指标，自动定阶，需要注意的是，有些列找不到p,q,也就无法建模\n",
    "        :param df: df\n",
    "        :return: 最优的p和q\n",
    "        \"\"\"\n",
    "        pmax = int(4)\n",
    "        qmax = int(4)\n",
    "        param_list = []\n",
    "        for p in range(pmax + 1):\n",
    "            for d in range(3):\n",
    "                for q in range(qmax + 1):\n",
    "                    try:\n",
    "                        bic = ARIMA(df, (p, d, q),missing=\"drop\").fit(disp=-1).bic\n",
    "                        param_list.append((bic,((p, d, q))))\n",
    "                    except:\n",
    "                        pass\n",
    "        print(list)\n",
    "        if len(param_list)==0:\n",
    "            return None,None,None\n",
    "        \"\"\"\n",
    "       param_list=  [(1202.4238818829, (2, 0, 4)),\n",
    "         (1206.309054876091, (2, 0, 2)),\n",
    "         (1206.4792083382936, (3, 0, 4)),\n",
    "         (1208.1163437591713, (0, 0, 4)),\n",
    "        \"\"\"\n",
    "        param_list.sort(key=lambda x:x[0])\n",
    "        print(param_list)\n",
    "        return param_list[0][1]\n"
   ]
  },
  {
   "cell_type": "code",
   "execution_count": 14,
   "metadata": {
    "scrolled": false
   },
   "outputs": [
    {
     "name": "stderr",
     "output_type": "stream",
     "text": [
      "/Users/lcz/miniconda3/lib/python3.7/site-packages/statsmodels/base/model.py:548: HessianInversionWarning: Inverting hessian failed, no bse or cov_params available\n",
      "  'available', HessianInversionWarning)\n",
      "/Users/lcz/miniconda3/lib/python3.7/site-packages/statsmodels/base/model.py:548: HessianInversionWarning: Inverting hessian failed, no bse or cov_params available\n",
      "  'available', HessianInversionWarning)\n",
      "/Users/lcz/miniconda3/lib/python3.7/site-packages/statsmodels/tsa/tsatools.py:689: RuntimeWarning: overflow encountered in exp\n",
      "  newparams = ((1-np.exp(-params))/(1+np.exp(-params))).copy()\n",
      "/Users/lcz/miniconda3/lib/python3.7/site-packages/statsmodels/tsa/tsatools.py:689: RuntimeWarning: invalid value encountered in true_divide\n",
      "  newparams = ((1-np.exp(-params))/(1+np.exp(-params))).copy()\n",
      "/Users/lcz/miniconda3/lib/python3.7/site-packages/statsmodels/tsa/tsatools.py:690: RuntimeWarning: overflow encountered in exp\n",
      "  tmp = ((1-np.exp(-params))/(1+np.exp(-params))).copy()\n",
      "/Users/lcz/miniconda3/lib/python3.7/site-packages/statsmodels/tsa/tsatools.py:690: RuntimeWarning: invalid value encountered in true_divide\n",
      "  tmp = ((1-np.exp(-params))/(1+np.exp(-params))).copy()\n",
      "/Users/lcz/miniconda3/lib/python3.7/site-packages/statsmodels/base/model.py:548: HessianInversionWarning: Inverting hessian failed, no bse or cov_params available\n",
      "  'available', HessianInversionWarning)\n",
      "/Users/lcz/miniconda3/lib/python3.7/site-packages/statsmodels/base/model.py:548: HessianInversionWarning: Inverting hessian failed, no bse or cov_params available\n",
      "  'available', HessianInversionWarning)\n",
      "/Users/lcz/miniconda3/lib/python3.7/site-packages/statsmodels/base/model.py:568: ConvergenceWarning: Maximum Likelihood optimization failed to converge. Check mle_retvals\n",
      "  \"Check mle_retvals\", ConvergenceWarning)\n",
      "/Users/lcz/miniconda3/lib/python3.7/site-packages/statsmodels/base/model.py:548: HessianInversionWarning: Inverting hessian failed, no bse or cov_params available\n",
      "  'available', HessianInversionWarning)\n",
      "/Users/lcz/miniconda3/lib/python3.7/site-packages/statsmodels/base/model.py:548: HessianInversionWarning: Inverting hessian failed, no bse or cov_params available\n",
      "  'available', HessianInversionWarning)\n",
      "/Users/lcz/miniconda3/lib/python3.7/site-packages/statsmodels/base/model.py:548: HessianInversionWarning: Inverting hessian failed, no bse or cov_params available\n",
      "  'available', HessianInversionWarning)\n",
      "/Users/lcz/miniconda3/lib/python3.7/site-packages/statsmodels/base/model.py:568: ConvergenceWarning: Maximum Likelihood optimization failed to converge. Check mle_retvals\n",
      "  \"Check mle_retvals\", ConvergenceWarning)\n",
      "/Users/lcz/miniconda3/lib/python3.7/site-packages/statsmodels/base/model.py:568: ConvergenceWarning: Maximum Likelihood optimization failed to converge. Check mle_retvals\n",
      "  \"Check mle_retvals\", ConvergenceWarning)\n",
      "/Users/lcz/miniconda3/lib/python3.7/site-packages/statsmodels/base/model.py:548: HessianInversionWarning: Inverting hessian failed, no bse or cov_params available\n",
      "  'available', HessianInversionWarning)\n",
      "/Users/lcz/miniconda3/lib/python3.7/site-packages/statsmodels/base/model.py:548: HessianInversionWarning: Inverting hessian failed, no bse or cov_params available\n",
      "  'available', HessianInversionWarning)\n",
      "/Users/lcz/miniconda3/lib/python3.7/site-packages/statsmodels/base/model.py:548: HessianInversionWarning: Inverting hessian failed, no bse or cov_params available\n",
      "  'available', HessianInversionWarning)\n",
      "/Users/lcz/miniconda3/lib/python3.7/site-packages/statsmodels/base/model.py:568: ConvergenceWarning: Maximum Likelihood optimization failed to converge. Check mle_retvals\n",
      "  \"Check mle_retvals\", ConvergenceWarning)\n",
      "/Users/lcz/miniconda3/lib/python3.7/site-packages/statsmodels/base/model.py:548: HessianInversionWarning: Inverting hessian failed, no bse or cov_params available\n",
      "  'available', HessianInversionWarning)\n",
      "/Users/lcz/miniconda3/lib/python3.7/site-packages/statsmodels/base/model.py:568: ConvergenceWarning: Maximum Likelihood optimization failed to converge. Check mle_retvals\n",
      "  \"Check mle_retvals\", ConvergenceWarning)\n",
      "/Users/lcz/miniconda3/lib/python3.7/site-packages/statsmodels/base/model.py:548: HessianInversionWarning: Inverting hessian failed, no bse or cov_params available\n",
      "  'available', HessianInversionWarning)\n",
      "/Users/lcz/miniconda3/lib/python3.7/site-packages/statsmodels/base/model.py:548: HessianInversionWarning: Inverting hessian failed, no bse or cov_params available\n",
      "  'available', HessianInversionWarning)\n",
      "/Users/lcz/miniconda3/lib/python3.7/site-packages/statsmodels/base/model.py:548: HessianInversionWarning: Inverting hessian failed, no bse or cov_params available\n",
      "  'available', HessianInversionWarning)\n",
      "/Users/lcz/miniconda3/lib/python3.7/site-packages/statsmodels/base/model.py:568: ConvergenceWarning: Maximum Likelihood optimization failed to converge. Check mle_retvals\n",
      "  \"Check mle_retvals\", ConvergenceWarning)\n"
     ]
    },
    {
     "name": "stdout",
     "output_type": "stream",
     "text": [
      "<class 'list'>\n",
      "[(-241.5860125209727, (4, 1, 3)), (-238.11477741528677, (2, 1, 4)), (-236.94730935370242, (4, 1, 4)), (-233.3920409028379, (3, 1, 4)), (-231.96363872082145, (3, 1, 3)), (-230.95625775907243, (2, 1, 3)), (-230.4493579137381, (0, 1, 4)), (-226.10433246478613, (2, 1, 1)), (-225.6738238584401, (1, 1, 4)), (-223.67947650666042, (4, 1, 2)), (-223.43946215900874, (4, 1, 1)), (-223.00105387196174, (1, 1, 2)), (-222.67013033940506, (3, 1, 1)), (-221.4538131339844, (3, 0, 2)), (-220.8995061807092, (3, 1, 2)), (-219.16209208301652, (2, 1, 2)), (-218.1530933843121, (1, 1, 3)), (-217.14748856893004, (0, 1, 3)), (-216.5962802584938, (3, 0, 3)), (-214.40608857331875, (0, 1, 2)), (-205.8144082785286, (4, 1, 0)), (-205.39447396998384, (1, 1, 1)), (-203.16347578919803, (0, 1, 1)), (-202.42880107899876, (0, 1, 0)), (-201.4899972642455, (1, 1, 0)), (-201.2615646329752, (0, 2, 4)), (-200.634231678675, (2, 1, 0)), (-200.60324861653555, (4, 2, 3)), (-199.25725644082928, (2, 0, 1)), (-198.04641116968267, (1, 0, 1)), (-197.9623493155347, (2, 2, 4)), (-196.64978557055923, (1, 0, 2)), (-196.62570299976312, (3, 1, 0)), (-196.2238084873458, (2, 0, 0)), (-196.12080307093714, (4, 0, 4)), (-195.61539863464483, (1, 0, 0)), (-194.1239274764676, (3, 0, 0)), (-193.29454523998197, (1, 2, 2)), (-193.1643555955381, (4, 2, 2)), (-192.7413589141563, (4, 2, 1)), (-191.77319578988386, (0, 2, 3)), (-191.2725473013317, (0, 2, 2)), (-190.89670556057956, (3, 0, 1)), (-190.09511978215107, (0, 2, 1)), (-189.65466107073905, (4, 0, 0)), (-189.5588027102711, (1, 2, 1)), (-188.46809895407927, (1, 2, 3)), (-188.4657768663273, (2, 2, 2)), (-188.34539676609143, (2, 2, 1)), (-188.16023533653424, (2, 0, 2)), (-187.59327484993474, (2, 0, 3)), (-186.8165605584353, (2, 2, 3)), (-185.18604015400942, (4, 0, 2)), (-184.84518639826166, (4, 0, 1)), (-184.18814975719812, (3, 2, 1)), (-183.8176173146462, (3, 2, 2)), (-183.40081701126203, (4, 0, 3)), (-168.71258724216608, (4, 2, 4)), (-164.06025348397435, (4, 2, 0)), (-153.36731564611244, (2, 2, 0)), (-149.13727807105886, (3, 2, 0)), (-145.40528450126305, (1, 2, 0)), (-137.94831673629733, (0, 2, 0)), (-133.41522887394342, (0, 0, 4)), (-130.78898472741577, (1, 0, 4)), (-78.59872768076778, (2, 0, 4)), (-52.44076002996138, (1, 0, 3)), (0.5883279013424669, (0, 0, 1)), (147.48159091635145, (0, 0, 0)), (408.9898039872304, (3, 0, 4))]\n"
     ]
    },
    {
     "data": {
      "text/html": [
       "<table class=\"simpletable\">\n",
       "<tr>\n",
       "        <td>Model:</td>              <td>ARIMA</td>              <td>BIC:</td>          <td>-241.5860</td>\n",
       "</tr>\n",
       "<tr>\n",
       "  <td>Dependent Variable:</td>   <td>D.Passengers</td>      <td>Log-Likelihood:</td>     <td>142.63</td>  \n",
       "</tr>\n",
       "<tr>\n",
       "         <td>Date:</td>        <td>2021-01-14 16:27</td>        <td>Scale:</td>          <td>1.0000</td>  \n",
       "</tr>\n",
       "<tr>\n",
       "   <td>No. Observations:</td>         <td>128</td>              <td>Method:</td>         <td>css-mle</td> \n",
       "</tr>\n",
       "<tr>\n",
       "       <td>Df Model:</td>              <td>8</td>               <td>Sample:</td>       <td>02-01-1949</td>\n",
       "</tr>\n",
       "<tr>\n",
       "     <td>Df Residuals:</td>           <td>120</td>                 <td></td>           <td>09-01-1959</td>\n",
       "</tr>\n",
       "<tr>\n",
       "      <td>Converged:</td>           <td>1.0000</td>      <td>S.D. of innovations:</td>    <td>0.076</td>  \n",
       "</tr>\n",
       "<tr>\n",
       "    <td>No. Iterations:</td>        <td>92.0000</td>             <td>HQIC:</td>         <td>-256.825</td> \n",
       "</tr>\n",
       "<tr>\n",
       "         <td>AIC:</td>             <td>-267.2543</td>              <td></td>                <td></td>     \n",
       "</tr>\n",
       "</table>\n",
       "<table class=\"simpletable\">\n",
       "<tr>\n",
       "           <td></td>           <th>Coef.</th>  <th>Std.Err.</th>     <th>t</th>     <th>P>|t|</th> <th>[0.025</th>  <th>0.975]</th> \n",
       "</tr>\n",
       "<tr>\n",
       "  <th>const</th>              <td>0.0104</td>   <td>0.0004</td>   <td>24.1339</td> <td>0.0000</td> <td>0.0096</td>  <td>0.0112</td> \n",
       "</tr>\n",
       "<tr>\n",
       "  <th>ar.L1.D.Passengers</th> <td>0.1906</td>   <td>0.0753</td>   <td>2.5311</td>  <td>0.0114</td> <td>0.0430</td>  <td>0.3381</td> \n",
       "</tr>\n",
       "<tr>\n",
       "  <th>ar.L2.D.Passengers</th> <td>-0.4150</td>  <td>0.0551</td>   <td>-7.5255</td> <td>0.0000</td> <td>-0.5231</td> <td>-0.3069</td>\n",
       "</tr>\n",
       "<tr>\n",
       "  <th>ar.L3.D.Passengers</th> <td>0.5841</td>   <td>0.0558</td>   <td>10.4669</td> <td>0.0000</td> <td>0.4747</td>  <td>0.6935</td> \n",
       "</tr>\n",
       "<tr>\n",
       "  <th>ar.L4.D.Passengers</th> <td>-0.5594</td>  <td>0.0744</td>   <td>-7.5160</td> <td>0.0000</td> <td>-0.7053</td> <td>-0.4135</td>\n",
       "</tr>\n",
       "<tr>\n",
       "  <th>ma.L1.D.Passengers</th> <td>-0.1235</td>  <td>0.0455</td>   <td>-2.7175</td> <td>0.0066</td> <td>-0.2126</td> <td>-0.0344</td>\n",
       "</tr>\n",
       "<tr>\n",
       "  <th>ma.L2.D.Passengers</th> <td>0.1235</td>   <td>0.0445</td>   <td>2.7745</td>  <td>0.0055</td> <td>0.0363</td>  <td>0.2108</td> \n",
       "</tr>\n",
       "<tr>\n",
       "  <th>ma.L3.D.Passengers</th> <td>-1.0000</td>  <td>0.0434</td>  <td>-23.0654</td> <td>0.0000</td> <td>-1.0850</td> <td>-0.9150</td>\n",
       "</tr>\n",
       "</table>\n",
       "<table class=\"simpletable\">\n",
       "<tr>\n",
       "    <td></td>    <th>Real</th>   <th>Imaginary</th> <th>Modulus</th> <th>Frequency</th>\n",
       "</tr>\n",
       "<tr>\n",
       "  <th>AR.1</th> <td>-0.4976</td>  <td>-0.8796</td>  <td>1.0106</td>   <td>-0.3319</td> \n",
       "</tr>\n",
       "<tr>\n",
       "  <th>AR.2</th> <td>-0.4976</td>  <td>0.8796</td>   <td>1.0106</td>   <td>0.3319</td>  \n",
       "</tr>\n",
       "<tr>\n",
       "  <th>AR.3</th> <td>1.0197</td>   <td>-0.8430</td>  <td>1.3230</td>   <td>-0.1099</td> \n",
       "</tr>\n",
       "<tr>\n",
       "  <th>AR.4</th> <td>1.0197</td>   <td>0.8430</td>   <td>1.3230</td>   <td>0.1099</td>  \n",
       "</tr>\n",
       "<tr>\n",
       "  <th>MA.1</th> <td>1.0000</td>   <td>-0.0000</td>  <td>1.0000</td>   <td>-0.0000</td> \n",
       "</tr>\n",
       "<tr>\n",
       "  <th>MA.2</th> <td>-0.4382</td>  <td>-0.8989</td>  <td>1.0000</td>   <td>-0.3222</td> \n",
       "</tr>\n",
       "<tr>\n",
       "  <th>MA.3</th> <td>-0.4382</td>  <td>0.8989</td>   <td>1.0000</td>   <td>0.3222</td>  \n",
       "</tr>\n",
       "</table>"
      ],
      "text/plain": [
       "<class 'statsmodels.iolib.summary2.Summary'>\n",
       "\"\"\"\n",
       "                           Results: ARIMA\n",
       "====================================================================\n",
       "Model:              ARIMA            BIC:                 -241.5860 \n",
       "Dependent Variable: D.Passengers     Log-Likelihood:      142.63    \n",
       "Date:               2021-01-14 16:27 Scale:               1.0000    \n",
       "No. Observations:   128              Method:              css-mle   \n",
       "Df Model:           8                Sample:              02-01-1949\n",
       "Df Residuals:       120                                   09-01-1959\n",
       "Converged:          1.0000           S.D. of innovations: 0.076     \n",
       "No. Iterations:     92.0000          HQIC:                -256.825  \n",
       "AIC:                -267.2543                                       \n",
       "--------------------------------------------------------------------\n",
       "                     Coef.  Std.Err.    t     P>|t|   [0.025  0.975]\n",
       "--------------------------------------------------------------------\n",
       "const                0.0104   0.0004  24.1339 0.0000  0.0096  0.0112\n",
       "ar.L1.D.Passengers   0.1906   0.0753   2.5311 0.0114  0.0430  0.3381\n",
       "ar.L2.D.Passengers  -0.4150   0.0551  -7.5255 0.0000 -0.5231 -0.3069\n",
       "ar.L3.D.Passengers   0.5841   0.0558  10.4669 0.0000  0.4747  0.6935\n",
       "ar.L4.D.Passengers  -0.5594   0.0744  -7.5160 0.0000 -0.7053 -0.4135\n",
       "ma.L1.D.Passengers  -0.1235   0.0455  -2.7175 0.0066 -0.2126 -0.0344\n",
       "ma.L2.D.Passengers   0.1235   0.0445   2.7745 0.0055  0.0363  0.2108\n",
       "ma.L3.D.Passengers  -1.0000   0.0434 -23.0654 0.0000 -1.0850 -0.9150\n",
       "-----------------------------------------------------------------------------\n",
       "                 Real           Imaginary          Modulus          Frequency\n",
       "-----------------------------------------------------------------------------\n",
       "AR.1           -0.4976            -0.8796           1.0106            -0.3319\n",
       "AR.2           -0.4976             0.8796           1.0106             0.3319\n",
       "AR.3            1.0197            -0.8430           1.3230            -0.1099\n",
       "AR.4            1.0197             0.8430           1.3230             0.1099\n",
       "MA.1            1.0000            -0.0000           1.0000            -0.0000\n",
       "MA.2           -0.4382            -0.8989           1.0000            -0.3222\n",
       "MA.3           -0.4382             0.8989           1.0000             0.3222\n",
       "====================================================================\n",
       "\n",
       "\"\"\""
      ]
     },
     "execution_count": 14,
     "metadata": {},
     "output_type": "execute_result"
    }
   ],
   "source": [
    "p, d, q = get_pq2(train_data)\n",
    "arma_mod = ARIMA(train_data,(p, d, q)).fit(disp=-1)\n",
    "summary = (arma_mod.summary2(alpha=.05, float_format=\"%.8f\"))\n",
    "# print(summary)\n",
    "summary"
   ]
  },
  {
   "cell_type": "code",
   "execution_count": 15,
   "metadata": {},
   "outputs": [
    {
     "data": {
      "text/plain": [
       "Month\n",
       "1959-10-01    6.008813\n",
       "1959-11-01    5.891644\n",
       "1959-12-01    6.003887\n",
       "1960-01-01    6.033086\n",
       "1960-02-01    5.968708\n",
       "1960-03-01    6.037871\n",
       "1960-04-01    6.133398\n",
       "1960-05-01    6.156979\n",
       "1960-06-01    6.282267\n",
       "1960-07-01    6.432940\n",
       "1960-08-01    6.406880\n",
       "1960-09-01    6.230481\n",
       "1960-10-01    6.133398\n",
       "1960-11-01    5.966147\n",
       "1960-12-01    6.068426\n",
       "Freq: MS, Name: Passengers, dtype: float64"
      ]
     },
     "execution_count": 15,
     "metadata": {},
     "output_type": "execute_result"
    }
   ],
   "source": [
    "test_data"
   ]
  },
  {
   "cell_type": "code",
   "execution_count": 16,
   "metadata": {},
   "outputs": [
    {
     "data": {
      "text/plain": [
       "1959-10-01   -0.103972\n",
       "1959-11-01   -0.060789\n",
       "1959-12-01    0.097242\n",
       "1960-01-01    0.100915\n",
       "1960-02-01    0.014010\n",
       "1960-03-01    0.064071\n",
       "1960-04-01    0.023421\n",
       "1960-05-01   -0.057918\n",
       "1960-06-01    0.021308\n",
       "1960-07-01    0.018416\n",
       "1960-08-01   -0.039785\n",
       "1960-09-01    0.042100\n",
       "1960-10-01    0.035851\n",
       "1960-11-01   -0.031701\n",
       "1960-12-01    0.038406\n",
       "Freq: MS, dtype: float64"
      ]
     },
     "execution_count": 16,
     "metadata": {},
     "output_type": "execute_result"
    }
   ],
   "source": [
    "redict_data = arma_mod.predict(start=test_data.index[0], end=test_data.index[-1])\n",
    "redict_data"
   ]
  },
  {
   "cell_type": "code",
   "execution_count": null,
   "metadata": {},
   "outputs": [],
   "source": [
    "plt.plot?"
   ]
  },
  {
   "cell_type": "code",
   "execution_count": null,
   "metadata": {},
   "outputs": [],
   "source": []
  },
  {
   "cell_type": "code",
   "execution_count": 11,
   "metadata": {},
   "outputs": [
    {
     "data": {
      "image/png": "[encoded data removed]",
      "text/plain": [
       "<Figure size 1152x360 with 1 Axes>"
      ]
     },
     "metadata": {
      "needs_background": "light"
     },
     "output_type": "display_data"
    }
   ],
   "source": [
    "plt.figure(figsize=(16,5))\n",
    "plt.plot(time_series.index,  time_series, linestyle='-',label='Passengers')\n",
    "plt.plot(redict_data.index,redict_data,c='r', linestyle='--',label='Predict')\n",
    "plt.axvline(x=test_data.index[0], c='b', linestyle='--')\n",
    "plt.legend()#  是否显示图例\n",
    "plt.show()"
   ]
  },
  {
   "cell_type": "code",
   "execution_count": null,
   "metadata": {},
   "outputs": [],
   "source": []
  }
 ],
 "metadata": {
  "kernelspec": {
   "display_name": "Python 3.7.4 64-bit ('base': conda)",
   "language": "python",
   "name": "python37464bitbaseconda12ed994832c2414a9c454e09192fa9bf"
  },
  "language_info": {
   "codemirror_mode": {
    "name": "ipython",
    "version": 3
   },
   "file_extension": ".py",
   "mimetype": "text/x-python",
   "name": "python",
   "nbconvert_exporter": "python",
   "pygments_lexer": "ipython3",
   "version": "3.7.4"
  },
  "toc": {
   "base_numbering": 1,
   "nav_menu": {},
   "number_sections": true,
   "sideBar": true,
   "skip_h1_title": false,
   "title_cell": "Table of Contents",
   "title_sidebar": "Contents",
   "toc_cell": false,
   "toc_position": {},
   "toc_section_display": true,
   "toc_window_display": false
  }
 },
 "nbformat": 4,
 "nbformat_minor": 2
}
